{
 "cells": [
  {
   "cell_type": "code",
   "execution_count": 25,
   "id": "76547cd8-2955-47bd-9f32-51fb8b09fbe9",
   "metadata": {},
   "outputs": [
    {
     "name": "stdin",
     "output_type": "stream",
     "text": [
      "Enter file name:  C:\\Users\\ehhrw\\OneDrive - Bayer\\Desktop\\romeo.txt\n"
     ]
    },
    {
     "name": "stdout",
     "output_type": "stream",
     "text": [
      "['Arise', 'But', 'It', 'Juliet', 'Who', 'already', 'and', 'and', 'and', 'breaks', 'east', 'envious', 'fair', 'grief', 'is', 'is', 'is', 'kill', 'light', 'moon', 'pale', 'sick', 'soft', 'sun', 'sun', 'the', 'the', 'the', 'through', 'what', 'window', 'with', 'yonder']\n"
     ]
    }
   ],
   "source": [
    "#Splitting the contents of a document\n",
    "fname = input(\"Enter file name: \")\n",
    "fh = open(fname)\n",
    "lst = list()\n",
    "for line in fh:\n",
    "    #line = line.rstrip()\n",
    "    line = line.split()\n",
    "    for i in line:\n",
    "        if i not in lst:\n",
    "            lst.append(i)\n",
    "        \n",
    "lst.sort()\n",
    "print(lst)\n"
   ]
  },
  {
   "cell_type": "code",
   "execution_count": null,
   "id": "d7f106dd-7c89-431e-a4a2-8d0017517a8b",
   "metadata": {},
   "outputs": [],
   "source": [
    "fname = input(\"Enter file name: \")\n",
    "fh = open(fname)\n",
    "fst = list()\n",
    "for line in fh:\n",
    "    x = line.split()\n",
    "    for word in x:\n",
    "        if word not in fst:\n",
    "            fst.append(word)  \n",
    "fst.sort()\n",
    "print(fst)"
   ]
  },
  {
   "cell_type": "code",
   "execution_count": 56,
   "id": "7cbe2f7d-db65-4458-803c-5da6e57f6d53",
   "metadata": {},
   "outputs": [
    {
     "name": "stdout",
     "output_type": "stream",
     "text": [
      "stephen.marquard@uct.ac.za\n",
      "louis@media.berkeley.edu\n",
      "zqian@umich.edu\n",
      "rjlowe@iupui.edu\n",
      "zqian@umich.edu\n",
      "rjlowe@iupui.edu\n",
      "cwen@iupui.edu\n",
      "cwen@iupui.edu\n",
      "gsilver@umich.edu\n",
      "gsilver@umich.edu\n",
      "zqian@umich.edu\n",
      "gsilver@umich.edu\n",
      "wagnermr@iupui.edu\n",
      "zqian@umich.edu\n",
      "antranig@caret.cam.ac.uk\n",
      "gopal.ramasammycook@gmail.com\n",
      "david.horwitz@uct.ac.za\n",
      "david.horwitz@uct.ac.za\n",
      "david.horwitz@uct.ac.za\n",
      "david.horwitz@uct.ac.za\n",
      "stephen.marquard@uct.ac.za\n",
      "louis@media.berkeley.edu\n",
      "louis@media.berkeley.edu\n",
      "ray@media.berkeley.edu\n",
      "cwen@iupui.edu\n",
      "cwen@iupui.edu\n",
      "cwen@iupui.edu\n",
      "There were 27 lines in the file with From as the first word\n"
     ]
    }
   ],
   "source": [
    "fh = open(fname)\n",
    "fhread = fh.read()\n",
    "fhsplit = fhread.split()\n",
    "\n",
    "length1 = len(fhsplit)\n",
    "\n",
    "count = 0\n",
    "for i in range(0,int(length1-1)):\n",
    "    if fhsplit[i] == 'From':\n",
    "        count = count+1\n",
    "        print(fhsplit[i+1])\n",
    "\n",
    "print(\"There were\", count, \"lines in the file with From as the first word\")"
   ]
  },
  {
   "cell_type": "code",
   "execution_count": null,
   "id": "c0d03dea-73a4-4af7-8d98-926a156a4681",
   "metadata": {},
   "outputs": [],
   "source": []
  },
  {
   "cell_type": "code",
   "execution_count": 50,
   "id": "283bf26e-1047-4bff-b47c-5c6d3b26fe35",
   "metadata": {},
   "outputs": [
    {
     "name": "stdout",
     "output_type": "stream",
     "text": [
      "-1\n"
     ]
    }
   ],
   "source": [
    "stuff = dict()\n",
    "print(stuff.get('candy',-1))"
   ]
  },
  {
   "cell_type": "code",
   "execution_count": 72,
   "id": "b36fe4cd-5da3-45e4-8e41-40adc4261579",
   "metadata": {},
   "outputs": [
    {
     "name": "stdin",
     "output_type": "stream",
     "text": [
      "Enter file: C:\\Users\\ehhrw\\OneDrive - Bayer\\Desktop\\romeo.txt\n"
     ]
    },
    {
     "name": "stdout",
     "output_type": "stream",
     "text": [
      "cwen@iupui.edu 5\n"
     ]
    }
   ],
   "source": [
    "#Find the mailbox with the most occurrences\n",
    "name = input(\"Enter file:\")\n",
    "if len(name) < 1:\n",
    "    name = \"mbox-short.txt\"\n",
    "handle = open(name)\n",
    "#count = 0\n",
    "email = dict()\n",
    "\n",
    "for line in handle:\n",
    "    line = line.rstrip()\n",
    "    words = line.split()\n",
    "    if len(words) < 5:\n",
    "        continue\n",
    "    if words[0] != 'From':\n",
    "        continue\n",
    "    words = list(words[1].split())\n",
    "    for word in words:\n",
    "        email[word] = email.get(word, 0) + 1\n",
    "#print(email)\n",
    "bigcount = None\n",
    "bigword = None\n",
    "for word, count in email.items():\n",
    "    if bigcount is None or count > bigcount:\n",
    "        bigword = word\n",
    "        bigcount = count\n",
    "print(bigword, bigcount)"
   ]
  },
  {
   "cell_type": "code",
   "execution_count": 115,
   "id": "89a3573d-a020-4d18-8e95-841efd1d1843",
   "metadata": {},
   "outputs": [
    {
     "name": "stdin",
     "output_type": "stream",
     "text": [
      "Enter file: C:\\Users\\ehhrw\\OneDrive - Bayer\\Desktop\\romeo.txt\n"
     ]
    },
    {
     "name": "stdout",
     "output_type": "stream",
     "text": [
      "04 3\n",
      "06 1\n",
      "07 1\n",
      "09 2\n",
      "10 3\n",
      "11 6\n",
      "14 1\n",
      "15 2\n",
      "16 4\n",
      "17 2\n",
      "18 1\n",
      "19 1\n"
     ]
    }
   ],
   "source": [
    "# read through the mbox-short.txt and figure out the distribution by hour of the day for each of the messages\n",
    "name = input(\"Enter file:\")\n",
    "if len(name) < 1:\n",
    "    name = \"mbox-short.txt\"\n",
    "handle = open(name)\n",
    "#count = 0\n",
    "email = dict()\n",
    "\n",
    "for line in handle:\n",
    "    if not line.startswith('From'):\n",
    "        continue\n",
    "    line = line.rstrip()\n",
    "    words = line.split()\n",
    "    if words[0] != 'From':\n",
    "        continue\n",
    "    time = words[5]\n",
    "    time = time.split(':')\n",
    "    hour = time[0]\n",
    "    email[hour] = email.get(hour, 0) + 1\n",
    "#print(email)\n",
    "lst = []\n",
    "for k,v in email.items():\n",
    "    result = (k, v)\n",
    "    lst.append(result)\n",
    "#print(lst)\n",
    "#print(lst)\n",
    "lst = sorted(lst)\n",
    "#print(lst)\n",
    "for v, k in lst:\n",
    "    print(v, k)"
   ]
  },
  {
   "cell_type": "code",
   "execution_count": 103,
   "id": "4dcf48cd-f853-417d-bd07-b8596fb263da",
   "metadata": {},
   "outputs": [
    {
     "name": "stdin",
     "output_type": "stream",
     "text": [
      "Enter File:  C:\\Users\\ehhrw\\OneDrive - Bayer\\Desktop\\romeo.txt\n"
     ]
    },
    {
     "name": "stdout",
     "output_type": "stream",
     "text": [
      "{'09': 2, '18': 1, '16': 4, '15': 2, '14': 1, '11': 6, '10': 3, '07': 1, '06': 1, '04': 3, '19': 1, '17': 2}\n"
     ]
    }
   ],
   "source": [
    "#  read through the mbox-short.txt and figure out the distribution by hour of the day for each of the messages\n",
    "file = input(\"Enter File: \")\n",
    "if len(file) < 1: file = \"mbox-short.txt\" #fast access\n",
    "nfile = open(file)\n",
    "dictit = dict()\n",
    "for line in nfile:\n",
    "    if not line.startswith(\"From\"): continue #looking for necessiary lines\n",
    "    sline = line.split()\n",
    "    if sline[0] != \"From\": continue\n",
    "    time = sline[5] #picking up time\n",
    "    time = time.split(\":\")\n",
    "    hour = time[0]\n",
    "    dictit[hour] = dictit.get(hour, 0) +1 \n",
    "print(dictit)\n",
    "#Sort by hours  \n",
    "result = (sorted( [(k,v) for k,v in dictit.items() ]))\n",
    "#for h, q in result:\n",
    "    #print(h, q)"
   ]
  },
  {
   "cell_type": "code",
   "execution_count": null,
   "id": "b4fddcc1-f01c-4714-a72c-c778d081f142",
   "metadata": {},
   "outputs": [],
   "source": []
  }
 ],
 "metadata": {
  "kernelspec": {
   "display_name": "Python 3 (ipykernel)",
   "language": "python",
   "name": "python3"
  },
  "language_info": {
   "codemirror_mode": {
    "name": "ipython",
    "version": 3
   },
   "file_extension": ".py",
   "mimetype": "text/x-python",
   "name": "python",
   "nbconvert_exporter": "python",
   "pygments_lexer": "ipython3",
   "version": "3.9.7"
  }
 },
 "nbformat": 4,
 "nbformat_minor": 5
}
